{
 "cells": [
  {
   "cell_type": "code",
   "execution_count": 1,
   "metadata": {},
   "outputs": [],
   "source": [
    "from qiskit import IBMQ\n",
    "from qiskit import ClassicalRegister, QuantumRegister, QuantumCircuit\n",
    "from qiskit import execute\n",
    "from qiskit import Aer\n",
    "from qiskit.tools.jupyter import *\n",
    "#from qiskit.providers.ibmq import least_busy\n",
    "# import basic plot tools\n",
    "from qiskit.tools.visualization import plot_histogram, circuit_drawer\n",
    "import numpy as np"
   ]
  },
  {
   "cell_type": "code",
   "execution_count": 2,
   "metadata": {},
   "outputs": [],
   "source": [
    "provider0 = IBMQ.load_account()\n",
    "provider1 = IBMQ.get_provider(hub='ibm-q', group='open', project='main')"
   ]
  },
  {
   "cell_type": "code",
   "execution_count": 3,
   "metadata": {},
   "outputs": [
    {
     "name": "stdout",
     "output_type": "stream",
     "text": [
      "The backend is ibmq_16_melbourne\n"
     ]
    }
   ],
   "source": [
    "backends = provider0.backends()\n",
    "backend = provider0.get_backend('ibmq_16_melbourne')\n",
    "\n",
    "print(\"The backend is \" + backend.name())\n",
    "simulator = Aer.get_backend('qasm_simulator')\n",
    "pi = np.pi"
   ]
  },
  {
   "cell_type": "code",
   "execution_count": 4,
   "metadata": {},
   "outputs": [
    {
     "data": {
      "text/plain": [
       "<qiskit.circuit.measure.Measure at 0x7f33d8bc6748>"
      ]
     },
     "execution_count": 4,
     "metadata": {},
     "output_type": "execute_result"
    }
   ],
   "source": [
    "q = QuantumRegister(11)\n",
    "c = ClassicalRegister(11)\n",
    "qc = QuantumCircuit(q, c)\n",
    "\n",
    "qc.h(q[0])\n",
    "qc.h(q[1])\n",
    "qc.h(q[2])\n",
    "qc.h(q[3])\n",
    "qc.h(q[4])\n",
    "qc.h(q[5])\n",
    "\n",
    "\n",
    "qc.x(q[8])\n",
    "\n",
    "qc.cswap(q[5],q[7],q[8])\n",
    "qc.cswap(q[5],q[6],q[7])\n",
    "\n",
    "qc.cswap(q[4],q[7],q[8])\n",
    "qc.cswap(q[4],q[6],q[7])\n",
    "qc.cswap(q[4],q[7],q[8])\n",
    "qc.cswap(q[4],q[6],q[7])\n",
    "\n",
    "qc.cswap(q[3],q[7],q[8])\n",
    "qc.cswap(q[3],q[6],q[7])\n",
    "qc.cswap(q[3],q[7],q[8])\n",
    "qc.cswap(q[3],q[6],q[7])\n",
    "qc.cswap(q[3],q[7],q[8])\n",
    "qc.cswap(q[3],q[6],q[7])\n",
    "qc.cswap(q[3],q[7],q[8])\n",
    "qc.cswap(q[3],q[6],q[7])\n",
    "\n",
    "qc.cswap(q[2],q[7],q[8])\n",
    "qc.cswap(q[2],q[6],q[7])\n",
    "qc.cswap(q[2],q[7],q[8])\n",
    "qc.cswap(q[2],q[6],q[7])\n",
    "qc.cswap(q[2],q[7],q[8])\n",
    "qc.cswap(q[2],q[6],q[7])\n",
    "qc.cswap(q[2],q[7],q[8])\n",
    "qc.cswap(q[2],q[6],q[7])\n",
    "qc.cswap(q[2],q[7],q[8])\n",
    "qc.cswap(q[2],q[6],q[7])\n",
    "qc.cswap(q[2],q[7],q[8])\n",
    "qc.cswap(q[2],q[6],q[7])\n",
    "qc.cswap(q[2],q[7],q[8])\n",
    "qc.cswap(q[2],q[6],q[7])\n",
    "qc.cswap(q[2],q[7],q[8])\n",
    "qc.cswap(q[2],q[6],q[7])\n",
    "\n",
    "qc.cswap(q[1],q[7],q[8])\n",
    "qc.cswap(q[1],q[6],q[7])\n",
    "qc.cswap(q[1],q[7],q[8])\n",
    "qc.cswap(q[1],q[6],q[7])\n",
    "qc.cswap(q[1],q[7],q[8])\n",
    "qc.cswap(q[1],q[6],q[7])\n",
    "qc.cswap(q[1],q[7],q[8])\n",
    "qc.cswap(q[1],q[6],q[7])\n",
    "qc.cswap(q[1],q[7],q[8])\n",
    "qc.cswap(q[1],q[6],q[7])\n",
    "qc.cswap(q[1],q[7],q[8])\n",
    "qc.cswap(q[1],q[6],q[7])\n",
    "qc.cswap(q[1],q[7],q[8])\n",
    "qc.cswap(q[1],q[6],q[7])\n",
    "qc.cswap(q[1],q[7],q[8])\n",
    "qc.cswap(q[1],q[6],q[7])\n",
    "qc.cswap(q[1],q[7],q[8])\n",
    "qc.cswap(q[1],q[6],q[7])\n",
    "qc.cswap(q[1],q[7],q[8])\n",
    "qc.cswap(q[1],q[6],q[7])\n",
    "qc.cswap(q[1],q[7],q[8])\n",
    "qc.cswap(q[1],q[6],q[7])\n",
    "qc.cswap(q[1],q[7],q[8])\n",
    "qc.cswap(q[1],q[6],q[7])\n",
    "qc.cswap(q[1],q[7],q[8])\n",
    "qc.cswap(q[1],q[6],q[7])\n",
    "qc.cswap(q[1],q[7],q[8])\n",
    "qc.cswap(q[1],q[6],q[7])\n",
    "qc.cswap(q[1],q[7],q[8])\n",
    "qc.cswap(q[1],q[6],q[7])\n",
    "qc.cswap(q[1],q[7],q[8])\n",
    "qc.cswap(q[1],q[6],q[7])\n",
    "\n",
    "qc.cswap(q[0],q[7],q[8])\n",
    "qc.cswap(q[0],q[6],q[7])\n",
    "qc.cswap(q[0],q[7],q[8])\n",
    "qc.cswap(q[0],q[6],q[7])\n",
    "qc.cswap(q[0],q[7],q[8])\n",
    "qc.cswap(q[0],q[6],q[7])\n",
    "qc.cswap(q[0],q[7],q[8])\n",
    "qc.cswap(q[0],q[6],q[7])\n",
    "qc.cswap(q[0],q[7],q[8])\n",
    "qc.cswap(q[0],q[6],q[7])\n",
    "qc.cswap(q[0],q[7],q[8])\n",
    "qc.cswap(q[0],q[6],q[7])\n",
    "qc.cswap(q[0],q[7],q[8])\n",
    "qc.cswap(q[0],q[6],q[7])\n",
    "qc.cswap(q[0],q[7],q[8])\n",
    "qc.cswap(q[0],q[6],q[7])\n",
    "qc.cswap(q[0],q[7],q[8])\n",
    "qc.cswap(q[0],q[6],q[7])\n",
    "qc.cswap(q[0],q[7],q[8])\n",
    "qc.cswap(q[0],q[6],q[7])\n",
    "qc.cswap(q[0],q[7],q[8])\n",
    "qc.cswap(q[0],q[6],q[7])\n",
    "qc.cswap(q[0],q[7],q[8])\n",
    "qc.cswap(q[0],q[6],q[7])\n",
    "qc.cswap(q[0],q[7],q[8])\n",
    "qc.cswap(q[0],q[6],q[7])\n",
    "qc.cswap(q[0],q[7],q[8])\n",
    "qc.cswap(q[0],q[6],q[7])\n",
    "qc.cswap(q[0],q[7],q[8])\n",
    "qc.cswap(q[0],q[6],q[7])\n",
    "qc.cswap(q[0],q[7],q[8])\n",
    "qc.cswap(q[0],q[6],q[7])\n",
    "qc.cswap(q[0],q[7],q[8])\n",
    "qc.cswap(q[0],q[6],q[7])\n",
    "qc.cswap(q[0],q[7],q[8])\n",
    "qc.cswap(q[0],q[6],q[7])\n",
    "qc.cswap(q[0],q[7],q[8])\n",
    "qc.cswap(q[0],q[6],q[7])\n",
    "qc.cswap(q[0],q[7],q[8])\n",
    "qc.cswap(q[0],q[6],q[7])\n",
    "qc.cswap(q[0],q[7],q[8])\n",
    "qc.cswap(q[0],q[6],q[7])\n",
    "qc.cswap(q[0],q[7],q[8])\n",
    "qc.cswap(q[0],q[6],q[7])\n",
    "qc.cswap(q[0],q[7],q[8])\n",
    "qc.cswap(q[0],q[6],q[7])\n",
    "qc.cswap(q[0],q[7],q[8])\n",
    "qc.cswap(q[0],q[6],q[7])\n",
    "qc.cswap(q[0],q[7],q[8])\n",
    "qc.cswap(q[0],q[6],q[7])\n",
    "qc.cswap(q[0],q[7],q[8])\n",
    "qc.cswap(q[0],q[6],q[7])\n",
    "qc.cswap(q[0],q[7],q[8])\n",
    "qc.cswap(q[0],q[6],q[7])\n",
    "qc.cswap(q[0],q[7],q[8])\n",
    "qc.cswap(q[0],q[6],q[7])\n",
    "qc.cswap(q[0],q[7],q[8])\n",
    "qc.cswap(q[0],q[6],q[7])\n",
    "qc.cswap(q[0],q[7],q[8])\n",
    "qc.cswap(q[0],q[6],q[7])\n",
    "qc.cswap(q[0],q[7],q[8])\n",
    "qc.cswap(q[0],q[6],q[7])\n",
    "qc.cswap(q[0],q[7],q[8])\n",
    "qc.cswap(q[0],q[6],q[7])\n",
    "\n",
    "#qc.measure(q[3], c[3])\n",
    "#qc.measure(q[4], c[4])\n",
    "#qc.measure(q[5], c[5])\n",
    "\n",
    "\n",
    "qc.h(q[0])\n",
    "\n",
    "qc.cu1(pi/2,q[1] ,q[0])\n",
    "qc.h(q[1])\n",
    "\n",
    "qc.cu1(pi/4,q[2] ,q[0])\n",
    "qc.cu1(pi/2,q[2] ,q[1])\n",
    "qc.h(q[2])\n",
    "\n",
    "qc.cu1(pi/8,q[3] ,q[0])\n",
    "qc.cu1(pi/4,q[3] ,q[1])\n",
    "qc.cu1(pi/2,q[3] ,q[2])\n",
    "qc.h(q[3])\n",
    "\n",
    "qc.cu1(pi/16,q[4] ,q[0])\n",
    "qc.cu1(pi/8,q[4] ,q[1])\n",
    "qc.cu1(pi/4,q[4] ,q[2])\n",
    "qc.cu1(pi/2,q[4] ,q[3])\n",
    "qc.h(q[4])\n",
    "\n",
    "qc.cu1(pi/32,q[5] ,q[0])\n",
    "qc.cu1(pi/16,q[5] ,q[1])\n",
    "qc.cu1(pi/8,q[5] ,q[2])\n",
    "qc.cu1(pi/4,q[5] ,q[3])\n",
    "qc.cu1(pi/2,q[5] ,q[4])\n",
    "qc.h(q[5])\n",
    "\n",
    "qc.swap(q[5] ,q[0])\n",
    "qc.swap(q[4] ,q[1])\n",
    "qc.swap(q[3] ,q[2])\n",
    "\n",
    "qc.measure(q[0], c[0])\n",
    "qc.measure(q[1], c[1])\n",
    "qc.measure(q[2], c[2])\n",
    "qc.measure(q[3], c[3])\n",
    "qc.measure(q[4], c[4])\n",
    "qc.measure(q[5], c[5])"
   ]
  },
  {
   "cell_type": "markdown",
   "metadata": {},
   "source": [
    "# IBMQ16"
   ]
  },
  {
   "cell_type": "code",
   "execution_count": 5,
   "metadata": {},
   "outputs": [
    {
     "ename": "RequestsApiError",
     "evalue": "403 Client Error: Forbidden for url: https://api.quantum-computing.ibm.com/api/Network/ibm-q/Groups/open/Projects/main/Jobs?access_token=.... NOT_CREDITS_AVALIABLES, Error code: NOT_CREDITS_AVALIABLES.",
     "output_type": "error",
     "traceback": [
      "\u001b[0;31m---------------------------------------------------------------------------\u001b[0m",
      "\u001b[0;31mRequestsApiError\u001b[0m                          Traceback (most recent call last)",
      "\u001b[0;32m<ipython-input-5-9f8044c479fc>\u001b[0m in \u001b[0;36m<module>\u001b[0;34m\u001b[0m\n\u001b[1;32m      1\u001b[0m \u001b[0mjob_exp\u001b[0m \u001b[0;34m=\u001b[0m \u001b[0mexecute\u001b[0m\u001b[0;34m(\u001b[0m\u001b[0mqc\u001b[0m\u001b[0;34m,\u001b[0m \u001b[0mbackend\u001b[0m\u001b[0;34m=\u001b[0m\u001b[0mbackend\u001b[0m\u001b[0;34m,\u001b[0m \u001b[0mshots\u001b[0m\u001b[0;34m=\u001b[0m\u001b[0;36m8192\u001b[0m\u001b[0;34m)\u001b[0m\u001b[0;34m\u001b[0m\u001b[0;34m\u001b[0m\u001b[0m\n\u001b[0;32m----> 2\u001b[0;31m \u001b[0mcounts\u001b[0m \u001b[0;34m=\u001b[0m \u001b[0mjob_exp\u001b[0m\u001b[0;34m.\u001b[0m\u001b[0mresult\u001b[0m\u001b[0;34m(\u001b[0m\u001b[0;34m)\u001b[0m\u001b[0;34m.\u001b[0m\u001b[0mget_counts\u001b[0m\u001b[0;34m(\u001b[0m\u001b[0mqc\u001b[0m\u001b[0;34m)\u001b[0m\u001b[0;34m\u001b[0m\u001b[0;34m\u001b[0m\u001b[0m\n\u001b[0m",
      "\u001b[0;32m~/anaconda3/envs/myqis/lib/python3.7/site-packages/qiskit/providers/ibmq/job/ibmqjob.py\u001b[0m in \u001b[0;36mresult\u001b[0;34m(self, timeout, wait)\u001b[0m\n\u001b[1;32m    247\u001b[0m             \u001b[0mJobError\u001b[0m\u001b[0;34m:\u001b[0m \u001b[0;32mif\u001b[0m \u001b[0mattempted\u001b[0m \u001b[0mto\u001b[0m \u001b[0mrecover\u001b[0m \u001b[0ma\u001b[0m \u001b[0mresult\u001b[0m \u001b[0mon\u001b[0m \u001b[0ma\u001b[0m \u001b[0mfailed\u001b[0m \u001b[0mjob\u001b[0m\u001b[0;34m.\u001b[0m\u001b[0;34m\u001b[0m\u001b[0;34m\u001b[0m\u001b[0m\n\u001b[1;32m    248\u001b[0m         \"\"\"\n\u001b[0;32m--> 249\u001b[0;31m         \u001b[0mself\u001b[0m\u001b[0;34m.\u001b[0m\u001b[0m_wait_for_completion\u001b[0m\u001b[0;34m(\u001b[0m\u001b[0mtimeout\u001b[0m\u001b[0;34m=\u001b[0m\u001b[0mtimeout\u001b[0m\u001b[0;34m,\u001b[0m \u001b[0mwait\u001b[0m\u001b[0;34m=\u001b[0m\u001b[0mwait\u001b[0m\u001b[0;34m)\u001b[0m\u001b[0;34m\u001b[0m\u001b[0;34m\u001b[0m\u001b[0m\n\u001b[0m\u001b[1;32m    250\u001b[0m \u001b[0;34m\u001b[0m\u001b[0m\n\u001b[1;32m    251\u001b[0m         \u001b[0mstatus\u001b[0m \u001b[0;34m=\u001b[0m \u001b[0mself\u001b[0m\u001b[0;34m.\u001b[0m\u001b[0mstatus\u001b[0m\u001b[0;34m(\u001b[0m\u001b[0;34m)\u001b[0m\u001b[0;34m\u001b[0m\u001b[0;34m\u001b[0m\u001b[0m\n",
      "\u001b[0;32m~/anaconda3/envs/myqis/lib/python3.7/site-packages/qiskit/providers/ibmq/job/ibmqjob.py\u001b[0m in \u001b[0;36m_wait_for_completion\u001b[0;34m(self, timeout, wait)\u001b[0m\n\u001b[1;32m    544\u001b[0m                 \u001b[0mspecified\u001b[0m \u001b[0mtimeout\u001b[0m\u001b[0;34m.\u001b[0m\u001b[0;34m\u001b[0m\u001b[0;34m\u001b[0m\u001b[0m\n\u001b[1;32m    545\u001b[0m         \"\"\"\n\u001b[0;32m--> 546\u001b[0;31m         \u001b[0mself\u001b[0m\u001b[0;34m.\u001b[0m\u001b[0m_wait_for_submission\u001b[0m\u001b[0;34m(\u001b[0m\u001b[0mtimeout\u001b[0m\u001b[0;34m)\u001b[0m\u001b[0;34m\u001b[0m\u001b[0;34m\u001b[0m\u001b[0m\n\u001b[0m\u001b[1;32m    547\u001b[0m \u001b[0;34m\u001b[0m\u001b[0m\n\u001b[1;32m    548\u001b[0m         \u001b[0;31m# Attempt to use websocket if available.\u001b[0m\u001b[0;34m\u001b[0m\u001b[0;34m\u001b[0m\u001b[0;34m\u001b[0m\u001b[0m\n",
      "\u001b[0;32m~/anaconda3/envs/myqis/lib/python3.7/site-packages/qiskit/providers/ibmq/job/ibmqjob.py\u001b[0m in \u001b[0;36m_wait_for_submission\u001b[0;34m(self, timeout)\u001b[0m\n\u001b[1;32m    576\u001b[0m                 \u001b[0msubmit_info\u001b[0m \u001b[0;34m=\u001b[0m \u001b[0mself\u001b[0m\u001b[0;34m.\u001b[0m\u001b[0m_future\u001b[0m\u001b[0;34m.\u001b[0m\u001b[0mresult\u001b[0m\u001b[0;34m(\u001b[0m\u001b[0mtimeout\u001b[0m\u001b[0;34m=\u001b[0m\u001b[0mtimeout\u001b[0m\u001b[0;34m)\u001b[0m\u001b[0;34m\u001b[0m\u001b[0;34m\u001b[0m\u001b[0m\n\u001b[1;32m    577\u001b[0m                 \u001b[0;32mif\u001b[0m \u001b[0mself\u001b[0m\u001b[0;34m.\u001b[0m\u001b[0m_future_captured_exception\u001b[0m \u001b[0;32mis\u001b[0m \u001b[0;32mnot\u001b[0m \u001b[0;32mNone\u001b[0m\u001b[0;34m:\u001b[0m\u001b[0;34m\u001b[0m\u001b[0;34m\u001b[0m\u001b[0m\n\u001b[0;32m--> 578\u001b[0;31m                     \u001b[0;32mraise\u001b[0m \u001b[0mself\u001b[0m\u001b[0;34m.\u001b[0m\u001b[0m_future_captured_exception\u001b[0m\u001b[0;34m\u001b[0m\u001b[0;34m\u001b[0m\u001b[0m\n\u001b[0m\u001b[1;32m    579\u001b[0m             \u001b[0;32mexcept\u001b[0m \u001b[0mTimeoutError\u001b[0m \u001b[0;32mas\u001b[0m \u001b[0mex\u001b[0m\u001b[0;34m:\u001b[0m\u001b[0;34m\u001b[0m\u001b[0;34m\u001b[0m\u001b[0m\n\u001b[1;32m    580\u001b[0m                 raise JobTimeoutError(\n",
      "\u001b[0;32m~/anaconda3/envs/myqis/lib/python3.7/site-packages/qiskit/providers/ibmq/job/ibmqjob.py\u001b[0m in \u001b[0;36m_submit_callback\u001b[0;34m(self)\u001b[0m\n\u001b[1;32m    464\u001b[0m                 submit_info = self._api.submit_job(\n\u001b[1;32m    465\u001b[0m                     \u001b[0mbackend_name\u001b[0m\u001b[0;34m=\u001b[0m\u001b[0mbackend_name\u001b[0m\u001b[0;34m,\u001b[0m\u001b[0;34m\u001b[0m\u001b[0;34m\u001b[0m\u001b[0m\n\u001b[0;32m--> 466\u001b[0;31m                     qobj_dict=self._qobj_payload)\n\u001b[0m\u001b[1;32m    467\u001b[0m             \u001b[0;32mexcept\u001b[0m \u001b[0mException\u001b[0m \u001b[0;32mas\u001b[0m \u001b[0merr\u001b[0m\u001b[0;34m:\u001b[0m  \u001b[0;31m# pylint: disable=broad-except\u001b[0m\u001b[0;34m\u001b[0m\u001b[0;34m\u001b[0m\u001b[0m\n\u001b[1;32m    468\u001b[0m                 \u001b[0;31m# Undefined error during submission:\u001b[0m\u001b[0;34m\u001b[0m\u001b[0;34m\u001b[0m\u001b[0;34m\u001b[0m\u001b[0m\n",
      "\u001b[0;32m~/anaconda3/envs/myqis/lib/python3.7/site-packages/qiskit/providers/ibmq/api_v2/clients/account.py\u001b[0m in \u001b[0;36msubmit_job\u001b[0;34m(self, qobj_dict, backend_name)\u001b[0m\n\u001b[1;32m    297\u001b[0m     \u001b[0;32mdef\u001b[0m \u001b[0msubmit_job\u001b[0m\u001b[0;34m(\u001b[0m\u001b[0mself\u001b[0m\u001b[0;34m,\u001b[0m \u001b[0mqobj_dict\u001b[0m\u001b[0;34m,\u001b[0m \u001b[0mbackend_name\u001b[0m\u001b[0;34m)\u001b[0m\u001b[0;34m:\u001b[0m\u001b[0;34m\u001b[0m\u001b[0;34m\u001b[0m\u001b[0m\n\u001b[1;32m    298\u001b[0m         \u001b[0;31m# pylint: disable=missing-docstring\u001b[0m\u001b[0;34m\u001b[0m\u001b[0;34m\u001b[0m\u001b[0;34m\u001b[0m\u001b[0m\n\u001b[0;32m--> 299\u001b[0;31m         \u001b[0;32mreturn\u001b[0m \u001b[0mself\u001b[0m\u001b[0;34m.\u001b[0m\u001b[0mjob_submit\u001b[0m\u001b[0;34m(\u001b[0m\u001b[0mbackend_name\u001b[0m\u001b[0;34m,\u001b[0m \u001b[0mqobj_dict\u001b[0m\u001b[0;34m)\u001b[0m\u001b[0;34m\u001b[0m\u001b[0;34m\u001b[0m\u001b[0m\n\u001b[0m\u001b[1;32m    300\u001b[0m \u001b[0;34m\u001b[0m\u001b[0m\n\u001b[1;32m    301\u001b[0m     def get_jobs(self, limit=10, skip=0, backend=None, only_completed=False,\n",
      "\u001b[0;32m~/anaconda3/envs/myqis/lib/python3.7/site-packages/qiskit/providers/ibmq/api_v2/clients/account.py\u001b[0m in \u001b[0;36mjob_submit\u001b[0;34m(self, backend_name, qobj_dict)\u001b[0m\n\u001b[1;32m    112\u001b[0m             \u001b[0mdict\u001b[0m\u001b[0;34m:\u001b[0m \u001b[0mjob\u001b[0m \u001b[0mstatus\u001b[0m\u001b[0;34m.\u001b[0m\u001b[0;34m\u001b[0m\u001b[0;34m\u001b[0m\u001b[0m\n\u001b[1;32m    113\u001b[0m         \"\"\"\n\u001b[0;32m--> 114\u001b[0;31m         \u001b[0;32mreturn\u001b[0m \u001b[0mself\u001b[0m\u001b[0;34m.\u001b[0m\u001b[0mclient_api\u001b[0m\u001b[0;34m.\u001b[0m\u001b[0msubmit_job\u001b[0m\u001b[0;34m(\u001b[0m\u001b[0mbackend_name\u001b[0m\u001b[0;34m,\u001b[0m \u001b[0mqobj_dict\u001b[0m\u001b[0;34m)\u001b[0m\u001b[0;34m\u001b[0m\u001b[0;34m\u001b[0m\u001b[0m\n\u001b[0m\u001b[1;32m    115\u001b[0m \u001b[0;34m\u001b[0m\u001b[0m\n\u001b[1;32m    116\u001b[0m     \u001b[0;32mdef\u001b[0m \u001b[0mjob_submit_object_storage\u001b[0m\u001b[0;34m(\u001b[0m\u001b[0mself\u001b[0m\u001b[0;34m,\u001b[0m \u001b[0mbackend_name\u001b[0m\u001b[0;34m,\u001b[0m \u001b[0mqobj_dict\u001b[0m\u001b[0;34m)\u001b[0m\u001b[0;34m:\u001b[0m\u001b[0;34m\u001b[0m\u001b[0;34m\u001b[0m\u001b[0m\n",
      "\u001b[0;32m~/anaconda3/envs/myqis/lib/python3.7/site-packages/qiskit/providers/ibmq/api_v2/rest/root.py\u001b[0m in \u001b[0;36msubmit_job\u001b[0;34m(self, backend_name, qobj_dict)\u001b[0m\n\u001b[1;32m    108\u001b[0m         }\n\u001b[1;32m    109\u001b[0m \u001b[0;34m\u001b[0m\u001b[0m\n\u001b[0;32m--> 110\u001b[0;31m         \u001b[0;32mreturn\u001b[0m \u001b[0mself\u001b[0m\u001b[0;34m.\u001b[0m\u001b[0msession\u001b[0m\u001b[0;34m.\u001b[0m\u001b[0mpost\u001b[0m\u001b[0;34m(\u001b[0m\u001b[0murl\u001b[0m\u001b[0;34m,\u001b[0m \u001b[0mjson\u001b[0m\u001b[0;34m=\u001b[0m\u001b[0mpayload\u001b[0m\u001b[0;34m)\u001b[0m\u001b[0;34m.\u001b[0m\u001b[0mjson\u001b[0m\u001b[0;34m(\u001b[0m\u001b[0;34m)\u001b[0m\u001b[0;34m\u001b[0m\u001b[0;34m\u001b[0m\u001b[0m\n\u001b[0m\u001b[1;32m    111\u001b[0m \u001b[0;34m\u001b[0m\u001b[0m\n\u001b[1;32m    112\u001b[0m     \u001b[0;32mdef\u001b[0m \u001b[0msubmit_job_object_storage\u001b[0m\u001b[0;34m(\u001b[0m\u001b[0mself\u001b[0m\u001b[0;34m,\u001b[0m \u001b[0mbackend_name\u001b[0m\u001b[0;34m,\u001b[0m \u001b[0mshots\u001b[0m\u001b[0;34m=\u001b[0m\u001b[0;36m1\u001b[0m\u001b[0;34m)\u001b[0m\u001b[0;34m:\u001b[0m\u001b[0;34m\u001b[0m\u001b[0;34m\u001b[0m\u001b[0m\n",
      "\u001b[0;32m~/anaconda3/envs/myqis/lib/python3.7/site-packages/requests/sessions.py\u001b[0m in \u001b[0;36mpost\u001b[0;34m(self, url, data, json, **kwargs)\u001b[0m\n\u001b[1;32m    579\u001b[0m         \"\"\"\n\u001b[1;32m    580\u001b[0m \u001b[0;34m\u001b[0m\u001b[0m\n\u001b[0;32m--> 581\u001b[0;31m         \u001b[0;32mreturn\u001b[0m \u001b[0mself\u001b[0m\u001b[0;34m.\u001b[0m\u001b[0mrequest\u001b[0m\u001b[0;34m(\u001b[0m\u001b[0;34m'POST'\u001b[0m\u001b[0;34m,\u001b[0m \u001b[0murl\u001b[0m\u001b[0;34m,\u001b[0m \u001b[0mdata\u001b[0m\u001b[0;34m=\u001b[0m\u001b[0mdata\u001b[0m\u001b[0;34m,\u001b[0m \u001b[0mjson\u001b[0m\u001b[0;34m=\u001b[0m\u001b[0mjson\u001b[0m\u001b[0;34m,\u001b[0m \u001b[0;34m**\u001b[0m\u001b[0mkwargs\u001b[0m\u001b[0;34m)\u001b[0m\u001b[0;34m\u001b[0m\u001b[0;34m\u001b[0m\u001b[0m\n\u001b[0m\u001b[1;32m    582\u001b[0m \u001b[0;34m\u001b[0m\u001b[0m\n\u001b[1;32m    583\u001b[0m     \u001b[0;32mdef\u001b[0m \u001b[0mput\u001b[0m\u001b[0;34m(\u001b[0m\u001b[0mself\u001b[0m\u001b[0;34m,\u001b[0m \u001b[0murl\u001b[0m\u001b[0;34m,\u001b[0m \u001b[0mdata\u001b[0m\u001b[0;34m=\u001b[0m\u001b[0;32mNone\u001b[0m\u001b[0;34m,\u001b[0m \u001b[0;34m**\u001b[0m\u001b[0mkwargs\u001b[0m\u001b[0;34m)\u001b[0m\u001b[0;34m:\u001b[0m\u001b[0;34m\u001b[0m\u001b[0;34m\u001b[0m\u001b[0m\n",
      "\u001b[0;32m~/anaconda3/envs/myqis/lib/python3.7/site-packages/qiskit/providers/ibmq/api_v2/session.py\u001b[0m in \u001b[0;36mrequest\u001b[0;34m(self, method, url, bare, **kwargs)\u001b[0m\n\u001b[1;32m    164\u001b[0m                 \u001b[0mmessage\u001b[0m \u001b[0;34m=\u001b[0m \u001b[0mmessage\u001b[0m\u001b[0;34m.\u001b[0m\u001b[0mreplace\u001b[0m\u001b[0;34m(\u001b[0m\u001b[0mself\u001b[0m\u001b[0;34m.\u001b[0m\u001b[0maccess_token\u001b[0m\u001b[0;34m,\u001b[0m \u001b[0;34m'...'\u001b[0m\u001b[0;34m)\u001b[0m\u001b[0;34m\u001b[0m\u001b[0;34m\u001b[0m\u001b[0m\n\u001b[1;32m    165\u001b[0m \u001b[0;34m\u001b[0m\u001b[0m\n\u001b[0;32m--> 166\u001b[0;31m             \u001b[0;32mraise\u001b[0m \u001b[0mRequestsApiError\u001b[0m\u001b[0;34m(\u001b[0m\u001b[0mex\u001b[0m\u001b[0;34m,\u001b[0m \u001b[0mmessage\u001b[0m\u001b[0;34m)\u001b[0m \u001b[0;32mfrom\u001b[0m \u001b[0;32mNone\u001b[0m\u001b[0;34m\u001b[0m\u001b[0;34m\u001b[0m\u001b[0m\n\u001b[0m\u001b[1;32m    167\u001b[0m \u001b[0;34m\u001b[0m\u001b[0m\n\u001b[1;32m    168\u001b[0m         \u001b[0;32mreturn\u001b[0m \u001b[0mresponse\u001b[0m\u001b[0;34m\u001b[0m\u001b[0;34m\u001b[0m\u001b[0m\n",
      "\u001b[0;31mRequestsApiError\u001b[0m: 403 Client Error: Forbidden for url: https://api.quantum-computing.ibm.com/api/Network/ibm-q/Groups/open/Projects/main/Jobs?access_token=.... NOT_CREDITS_AVALIABLES, Error code: NOT_CREDITS_AVALIABLES."
     ]
    }
   ],
   "source": [
    "job_exp = execute(qc, backend=backend, shots=8192)\n",
    "counts = job_exp.result().get_counts(qc)"
   ]
  },
  {
   "cell_type": "code",
   "execution_count": null,
   "metadata": {},
   "outputs": [],
   "source": [
    "print(counts)"
   ]
  },
  {
   "cell_type": "code",
   "execution_count": null,
   "metadata": {},
   "outputs": [],
   "source": [
    "plot_histogram(counts)"
   ]
  },
  {
   "cell_type": "markdown",
   "metadata": {},
   "source": [
    "# Simulator"
   ]
  },
  {
   "cell_type": "code",
   "execution_count": null,
   "metadata": {},
   "outputs": [],
   "source": [
    "job_sim = execute(qc, backend=simulator, shots=8192)\n",
    "counts_sim = job_sim.result().get_counts(qc)"
   ]
  },
  {
   "cell_type": "code",
   "execution_count": null,
   "metadata": {},
   "outputs": [],
   "source": [
    "print(\"\\nTotal count for simulator:\",counts_sim)"
   ]
  },
  {
   "cell_type": "code",
   "execution_count": null,
   "metadata": {},
   "outputs": [],
   "source": [
    "plot_histogram(counts_sim)"
   ]
  },
  {
   "cell_type": "code",
   "execution_count": null,
   "metadata": {},
   "outputs": [],
   "source": [
    "qc.draw(output='mpl')"
   ]
  },
  {
   "cell_type": "markdown",
   "metadata": {},
   "source": [
    "qc.h(q[0])\n",
    "\n",
    "qc.cu1(pi/2,q[1] ,q[0])\n",
    "qc.h(q[1])\n",
    "\n",
    "qc.cu1(pi/4,q[2] ,q[0])\n",
    "qc.cu1(pi/2,q[2] ,q[1])\n",
    "qc.h(q[2])\n",
    "\n",
    "#qc.cu1(pi/8,q[3] ,q[0])\n",
    "#qc.cu1(pi/4,q[3] ,q[1])\n",
    "#qc.cu1(pi/2,q[3] ,q[2])\n",
    "#qc.h(q[3])\n",
    "\n",
    "\n",
    "qc.measure(q[0], c[0])\n",
    "qc.measure(q[1], c[1])\n",
    "qc.measure(q[2], c[2])"
   ]
  },
  {
   "cell_type": "code",
   "execution_count": null,
   "metadata": {},
   "outputs": [],
   "source": [
    "#job_sim = execute(qc, backend=simulator, shots=8192)\n",
    "#counts_sim = job_sim.result().get_counts(qc)"
   ]
  },
  {
   "cell_type": "code",
   "execution_count": null,
   "metadata": {},
   "outputs": [],
   "source": [
    "#print(\"\\nTotal count for simulator:\",counts_sim)"
   ]
  },
  {
   "cell_type": "code",
   "execution_count": null,
   "metadata": {},
   "outputs": [],
   "source": [
    "#plot_histogram(counts_sim)"
   ]
  },
  {
   "cell_type": "markdown",
   "metadata": {},
   "source": [
    "The periods found by the simulator are p= 0, which is ignored as a trivial period, and p= 4, which is a good one.Since M= 8, we can conclude thatrdivides M/p= 8/4 = 2, hence r= 2. "
   ]
  }
 ],
 "metadata": {
  "kernelspec": {
   "display_name": "Python 3",
   "language": "python",
   "name": "python3"
  },
  "language_info": {
   "codemirror_mode": {
    "name": "ipython",
    "version": 3
   },
   "file_extension": ".py",
   "mimetype": "text/x-python",
   "name": "python",
   "nbconvert_exporter": "python",
   "pygments_lexer": "ipython3",
   "version": "3.7.3"
  }
 },
 "nbformat": 4,
 "nbformat_minor": 2
}
